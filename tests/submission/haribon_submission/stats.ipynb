{
 "cells": [
  {
   "cell_type": "code",
   "execution_count": 13,
   "metadata": {},
   "outputs": [],
   "source": [
    "import pandas as pd"
   ]
  },
  {
   "cell_type": "code",
   "execution_count": 14,
   "metadata": {},
   "outputs": [],
   "source": [
    "a = pd.read_csv('rf_haribon_0.491.csv')\n",
    "b = pd.read_csv('rf_haribon_0.491_meanvoting.csv')\n",
    "c = pd.read_csv('rf_haribon_0.500_meanvoting.csv')\n",
    "d = pd.read_csv('cb_haribon_0.584_meanvoting.csv')\n",
    "e = pd.read_csv('together1.csv')"
   ]
  },
  {
   "cell_type": "code",
   "execution_count": 15,
   "metadata": {},
   "outputs": [
    {
     "data": {
      "text/plain": [
       "Pithecophaga jeffeyri     32\n",
       "Cacatua haematuropygia    30\n",
       "Egretta eulophotes         7\n",
       "Anas luzonica              6\n",
       "Alcedo argentata           5\n",
       "Name: Predicted, dtype: int64"
      ]
     },
     "execution_count": 15,
     "metadata": {},
     "output_type": "execute_result"
    }
   ],
   "source": [
    "c['Predicted'].value_counts()"
   ]
  },
  {
   "cell_type": "code",
   "execution_count": 16,
   "metadata": {},
   "outputs": [
    {
     "data": {
      "text/plain": [
       "Pithecophaga jeffeyri     46\n",
       "Cacatua haematuropygia    23\n",
       "Anas luzonica              4\n",
       "Egretta eulophotes         4\n",
       "Alcedo argentata           3\n",
       "Name: Predicted, dtype: int64"
      ]
     },
     "execution_count": 16,
     "metadata": {},
     "output_type": "execute_result"
    }
   ],
   "source": [
    "d['Predicted'].value_counts()"
   ]
  },
  {
   "cell_type": "code",
   "execution_count": 17,
   "metadata": {},
   "outputs": [
    {
     "data": {
      "text/plain": [
       "Pithecophaga jeffeyri     34\n",
       "Cacatua haematuropygia    30\n",
       "Egretta eulophotes         7\n",
       "Anas luzonica              5\n",
       "Alcedo argentata           4\n",
       "Name: Predicted, dtype: int64"
      ]
     },
     "execution_count": 17,
     "metadata": {},
     "output_type": "execute_result"
    }
   ],
   "source": [
    "e['Predicted'].value_counts()"
   ]
  }
 ],
 "metadata": {
  "kernelspec": {
   "display_name": "Python 3",
   "language": "python",
   "name": "python3"
  },
  "language_info": {
   "codemirror_mode": {
    "name": "ipython",
    "version": 3
   },
   "file_extension": ".py",
   "mimetype": "text/x-python",
   "name": "python",
   "nbconvert_exporter": "python",
   "pygments_lexer": "ipython3",
   "version": "3.7.3"
  }
 },
 "nbformat": 4,
 "nbformat_minor": 2
}
