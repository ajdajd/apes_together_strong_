{
 "cells": [
  {
   "cell_type": "code",
   "execution_count": 1,
   "metadata": {},
   "outputs": [],
   "source": [
    "import lightgbm as lgbm\n",
    "from sklearn import utils\n",
    "\n",
    "from sklearn.metrics import f1_score\n",
    "\n",
    "def lgb_f1_score(y_hat, data):\n",
    "    y_true = data.get_label()\n",
    "    y_hat = y_hat.reshape(len(np.unique(y_true)), -1).argmax(axis=0)\n",
    "#     print(f\"yhat {y_hat} y_true {y_true}\")# scikits f1 doesn't like probabilities\n",
    "#     print(f\" true {y_true.shape}, preds {y_hat.shape}\")\n",
    "    return 'f1', f1_score(y_true, y_hat, average=\"weighted\"), True\n",
    "\n",
    "class MultiClassLGBMCV():\n",
    "    def __init__(self, cv=None, **kwargs):\n",
    "        self.cv = cv\n",
    "        self.lgbm_params = kwargs\n",
    "        self.metric = kwargs['metric']\n",
    "\n",
    "    def fit(self, X, y=None, **kwargs):\n",
    "        self.models_ = []\n",
    "        feature_names = X.columns if isinstance(X, pd.DataFrame) else list(range(X.shape[1]))\n",
    "        self.feature_importances_ = pd.DataFrame(index=feature_names)\n",
    "        self.evals_results_ = {}\n",
    "        self.model_scores_ = []\n",
    "        self.model_best_iterations_ = []\n",
    "\n",
    "        for i, (fit_idx, val_idx) in enumerate(self.cv):\n",
    "\n",
    "            # Split the dataset according to the fold indexes\n",
    "            if isinstance(X, pd.DataFrame):\n",
    "                X_fit = X.iloc[fit_idx]\n",
    "                X_val = X.iloc[val_idx]\n",
    "            else:\n",
    "                X_fit = X[fit_idx]\n",
    "                X_val = X[val_idx]\n",
    "\n",
    "            if isinstance(y, pd.Series):\n",
    "                y_fit = y.iloc[fit_idx]\n",
    "                y_val = y.iloc[val_idx]\n",
    "            else:\n",
    "                y_fit = y[fit_idx]\n",
    "                y_val = y[val_idx]\n",
    "\n",
    "            # https://lightgbm.readthedocs.io/en/latest/Python-API.html#lightgbm.Dataset\n",
    "            \n",
    "            fit_set = lgbm.Dataset(X_fit, y_fit)\n",
    "            val_set = lgbm.Dataset(X_val, y_val)\n",
    "                \n",
    "            #print(f'fit set {len(X_fit)} and val_set {len(X_val)}')\n",
    "            # https://lightgbm.readthedocs.io/en/latest/Python-API.html#lightgbm.train\n",
    "            self.evals_results_[i] = {}\n",
    "            model = lgbm.train(\n",
    "                params=self.lgbm_params,\n",
    "                train_set=fit_set,\n",
    "                valid_sets=(fit_set, val_set),\n",
    "                valid_names=('train', 'eval'),\n",
    "                evals_result=self.evals_results_[i],\n",
    "                feval=lgb_f1_score,\n",
    "                **kwargs\n",
    "            )\n",
    "            self.model_scores_.append(model.best_score['eval']['f1'])\n",
    "            # Store the feature importances\n",
    "            self.feature_importances_['gain_{}'.format(i)] = model.feature_importance('gain')\n",
    "            self.feature_importances_['split_{}'.format(i)] = model.feature_importance('split')\n",
    "            self.model_best_iterations_.append(model.best_iteration)\n",
    "            # Store the model\n",
    "            self.models_.append(model)\n",
    "\n",
    "        return self\n",
    "\n",
    "    def predict(self, X):\n",
    "\n",
    "        utils.validation.check_is_fitted(self, ['models_'])\n",
    "\n",
    "        y = np.zeros(len(X))\n",
    "\n",
    "        for model in self.models_:\n",
    "            \n",
    "            y += model.predict(X, num_iteration=model.best_iteration).argmax(axis=1)\n",
    "        \n",
    "        return y // len(self.models_)"
   ]
  },
  {
   "cell_type": "code",
   "execution_count": 2,
   "metadata": {},
   "outputs": [],
   "source": [
    "from sklearn.datasets import load_iris\n",
    "import pandas as pd\n",
    "import numpy as np"
   ]
  },
  {
   "cell_type": "code",
   "execution_count": 3,
   "metadata": {},
   "outputs": [],
   "source": [
    "X, proxy_y = load_iris(True)"
   ]
  },
  {
   "cell_type": "code",
   "execution_count": 4,
   "metadata": {},
   "outputs": [],
   "source": [
    "X = pd.DataFrame(X, columns=['sepal-length', 'sepal-width', 'petal-length', 'petal-width'])"
   ]
  },
  {
   "cell_type": "code",
   "execution_count": 5,
   "metadata": {},
   "outputs": [],
   "source": [
    "X['class'] = proxy_y"
   ]
  },
  {
   "cell_type": "code",
   "execution_count": 6,
   "metadata": {},
   "outputs": [],
   "source": [
    "from sklearn.model_selection import train_test_split\n",
    "\n",
    "train, test, y, y_test = train_test_split(X.drop('class', axis=1), proxy_y, test_size=.1, random_state=13, stratify=X['class'])"
   ]
  },
  {
   "cell_type": "code",
   "execution_count": 7,
   "metadata": {},
   "outputs": [],
   "source": [
    "# import pandas as pd\n",
    "# import numpy as np\n",
    "\n",
    "# path = \"../data/titanic/\"\n",
    "# train = pd.read_csv(path+\"train.csv\")\n",
    "# test = pd.read_csv(path+\"test.csv\")"
   ]
  },
  {
   "cell_type": "code",
   "execution_count": 8,
   "metadata": {},
   "outputs": [],
   "source": [
    "from utils.models import CatBoostCV, LGBMCV\n",
    "from utils.eda import reduce_mem_usage, missing_data, get_cats_nums"
   ]
  },
  {
   "cell_type": "code",
   "execution_count": 9,
   "metadata": {},
   "outputs": [
    {
     "name": "stdout",
     "output_type": "stream",
     "text": [
      "Memory usage of properties dataframe is : 0.00514984130859375  MB\n",
      "******************************\n",
      "Column:  sepal-length\n",
      "dtype before:  float64\n",
      "min for this col:  4.3\n",
      "max for this col:  7.9\n",
      "dtype after:  float32\n",
      "******************************\n",
      "******************************\n",
      "Column:  sepal-width\n",
      "dtype before:  float64\n",
      "min for this col:  2.0\n",
      "max for this col:  4.4\n",
      "dtype after:  float32\n",
      "******************************\n",
      "******************************\n",
      "Column:  petal-length\n",
      "dtype before:  float64\n",
      "min for this col:  1.0\n",
      "max for this col:  6.7\n",
      "dtype after:  float32\n",
      "******************************\n",
      "******************************\n",
      "Column:  petal-width\n",
      "dtype before:  float64\n",
      "min for this col:  0.1\n",
      "max for this col:  2.5\n",
      "dtype after:  float32\n",
      "******************************\n",
      "___MEMORY USAGE AFTER COMPLETION:___\n",
      "Memory usage is:  0.00308990478515625  MB\n",
      "This is  60.0 % of the initial size\n",
      "Memory usage of properties dataframe is : 0.00057220458984375  MB\n",
      "******************************\n",
      "Column:  sepal-length\n",
      "dtype before:  float64\n",
      "min for this col:  4.4\n",
      "max for this col:  7.7\n",
      "dtype after:  float32\n",
      "******************************\n",
      "******************************\n",
      "Column:  sepal-width\n",
      "dtype before:  float64\n",
      "min for this col:  2.4\n",
      "max for this col:  3.9\n",
      "dtype after:  float32\n",
      "******************************\n",
      "******************************\n",
      "Column:  petal-length\n",
      "dtype before:  float64\n",
      "min for this col:  1.3\n",
      "max for this col:  6.9\n",
      "dtype after:  float32\n",
      "******************************\n",
      "******************************\n",
      "Column:  petal-width\n",
      "dtype before:  float64\n",
      "min for this col:  0.2\n",
      "max for this col:  2.5\n",
      "dtype after:  float32\n",
      "******************************\n",
      "___MEMORY USAGE AFTER COMPLETION:___\n",
      "Memory usage is:  0.00034332275390625  MB\n",
      "This is  60.0 % of the initial size\n"
     ]
    }
   ],
   "source": [
    "train = reduce_mem_usage(train)\n",
    "test = reduce_mem_usage(test)"
   ]
  },
  {
   "cell_type": "code",
   "execution_count": 10,
   "metadata": {},
   "outputs": [],
   "source": [
    "train.columns = [f.lower() for f in train.columns]\n",
    "test.columns = [f.lower() for f in test.columns]"
   ]
  },
  {
   "cell_type": "code",
   "execution_count": 11,
   "metadata": {},
   "outputs": [
    {
     "data": {
      "text/html": [
       "<div>\n",
       "<style scoped>\n",
       "    .dataframe tbody tr th:only-of-type {\n",
       "        vertical-align: middle;\n",
       "    }\n",
       "\n",
       "    .dataframe tbody tr th {\n",
       "        vertical-align: top;\n",
       "    }\n",
       "\n",
       "    .dataframe thead th {\n",
       "        text-align: right;\n",
       "    }\n",
       "</style>\n",
       "<table border=\"1\" class=\"dataframe\">\n",
       "  <thead>\n",
       "    <tr style=\"text-align: right;\">\n",
       "      <th></th>\n",
       "      <th>sepal-length</th>\n",
       "      <th>sepal-width</th>\n",
       "      <th>petal-length</th>\n",
       "      <th>petal-width</th>\n",
       "    </tr>\n",
       "  </thead>\n",
       "  <tbody>\n",
       "    <tr>\n",
       "      <th>46</th>\n",
       "      <td>5.1</td>\n",
       "      <td>3.8</td>\n",
       "      <td>1.6</td>\n",
       "      <td>0.2</td>\n",
       "    </tr>\n",
       "    <tr>\n",
       "      <th>123</th>\n",
       "      <td>6.3</td>\n",
       "      <td>2.7</td>\n",
       "      <td>4.9</td>\n",
       "      <td>1.8</td>\n",
       "    </tr>\n",
       "    <tr>\n",
       "      <th>11</th>\n",
       "      <td>4.8</td>\n",
       "      <td>3.4</td>\n",
       "      <td>1.6</td>\n",
       "      <td>0.2</td>\n",
       "    </tr>\n",
       "    <tr>\n",
       "      <th>47</th>\n",
       "      <td>4.6</td>\n",
       "      <td>3.2</td>\n",
       "      <td>1.4</td>\n",
       "      <td>0.2</td>\n",
       "    </tr>\n",
       "    <tr>\n",
       "      <th>132</th>\n",
       "      <td>6.4</td>\n",
       "      <td>2.8</td>\n",
       "      <td>5.6</td>\n",
       "      <td>2.2</td>\n",
       "    </tr>\n",
       "  </tbody>\n",
       "</table>\n",
       "</div>"
      ],
      "text/plain": [
       "     sepal-length  sepal-width  petal-length  petal-width\n",
       "46            5.1          3.8           1.6          0.2\n",
       "123           6.3          2.7           4.9          1.8\n",
       "11            4.8          3.4           1.6          0.2\n",
       "47            4.6          3.2           1.4          0.2\n",
       "132           6.4          2.8           5.6          2.2"
      ]
     },
     "execution_count": 11,
     "metadata": {},
     "output_type": "execute_result"
    }
   ],
   "source": [
    "train.head()"
   ]
  },
  {
   "cell_type": "code",
   "execution_count": 12,
   "metadata": {},
   "outputs": [
    {
     "data": {
      "text/plain": [
       "Index(['sepal-length', 'sepal-width', 'petal-length', 'petal-width'], dtype='object')"
      ]
     },
     "execution_count": 12,
     "metadata": {},
     "output_type": "execute_result"
    }
   ],
   "source": [
    "train.columns"
   ]
  },
  {
   "cell_type": "code",
   "execution_count": 13,
   "metadata": {},
   "outputs": [],
   "source": [
    "# drop_cols = ['name', 'ticket', 'cabin']"
   ]
  },
  {
   "cell_type": "code",
   "execution_count": 14,
   "metadata": {},
   "outputs": [],
   "source": [
    "# train.drop(drop_cols, axis=1, inplace=True)\n",
    "# test.drop(drop_cols, axis=1, inplace=True)"
   ]
  },
  {
   "cell_type": "code",
   "execution_count": 15,
   "metadata": {},
   "outputs": [
    {
     "data": {
      "text/html": [
       "<div>\n",
       "<style scoped>\n",
       "    .dataframe tbody tr th:only-of-type {\n",
       "        vertical-align: middle;\n",
       "    }\n",
       "\n",
       "    .dataframe tbody tr th {\n",
       "        vertical-align: top;\n",
       "    }\n",
       "\n",
       "    .dataframe thead th {\n",
       "        text-align: right;\n",
       "    }\n",
       "</style>\n",
       "<table border=\"1\" class=\"dataframe\">\n",
       "  <thead>\n",
       "    <tr style=\"text-align: right;\">\n",
       "      <th></th>\n",
       "      <th>sepal-length</th>\n",
       "      <th>sepal-width</th>\n",
       "      <th>petal-length</th>\n",
       "      <th>petal-width</th>\n",
       "    </tr>\n",
       "  </thead>\n",
       "  <tbody>\n",
       "    <tr>\n",
       "      <th>46</th>\n",
       "      <td>5.1</td>\n",
       "      <td>3.8</td>\n",
       "      <td>1.6</td>\n",
       "      <td>0.2</td>\n",
       "    </tr>\n",
       "    <tr>\n",
       "      <th>123</th>\n",
       "      <td>6.3</td>\n",
       "      <td>2.7</td>\n",
       "      <td>4.9</td>\n",
       "      <td>1.8</td>\n",
       "    </tr>\n",
       "    <tr>\n",
       "      <th>11</th>\n",
       "      <td>4.8</td>\n",
       "      <td>3.4</td>\n",
       "      <td>1.6</td>\n",
       "      <td>0.2</td>\n",
       "    </tr>\n",
       "    <tr>\n",
       "      <th>47</th>\n",
       "      <td>4.6</td>\n",
       "      <td>3.2</td>\n",
       "      <td>1.4</td>\n",
       "      <td>0.2</td>\n",
       "    </tr>\n",
       "    <tr>\n",
       "      <th>132</th>\n",
       "      <td>6.4</td>\n",
       "      <td>2.8</td>\n",
       "      <td>5.6</td>\n",
       "      <td>2.2</td>\n",
       "    </tr>\n",
       "    <tr>\n",
       "      <th>...</th>\n",
       "      <td>...</td>\n",
       "      <td>...</td>\n",
       "      <td>...</td>\n",
       "      <td>...</td>\n",
       "    </tr>\n",
       "    <tr>\n",
       "      <th>70</th>\n",
       "      <td>5.9</td>\n",
       "      <td>3.2</td>\n",
       "      <td>4.8</td>\n",
       "      <td>1.8</td>\n",
       "    </tr>\n",
       "    <tr>\n",
       "      <th>100</th>\n",
       "      <td>6.3</td>\n",
       "      <td>3.3</td>\n",
       "      <td>6.0</td>\n",
       "      <td>2.5</td>\n",
       "    </tr>\n",
       "    <tr>\n",
       "      <th>62</th>\n",
       "      <td>6.0</td>\n",
       "      <td>2.2</td>\n",
       "      <td>4.0</td>\n",
       "      <td>1.0</td>\n",
       "    </tr>\n",
       "    <tr>\n",
       "      <th>146</th>\n",
       "      <td>6.3</td>\n",
       "      <td>2.5</td>\n",
       "      <td>5.0</td>\n",
       "      <td>1.9</td>\n",
       "    </tr>\n",
       "    <tr>\n",
       "      <th>117</th>\n",
       "      <td>7.7</td>\n",
       "      <td>3.8</td>\n",
       "      <td>6.7</td>\n",
       "      <td>2.2</td>\n",
       "    </tr>\n",
       "  </tbody>\n",
       "</table>\n",
       "<p>135 rows × 4 columns</p>\n",
       "</div>"
      ],
      "text/plain": [
       "     sepal-length  sepal-width  petal-length  petal-width\n",
       "46            5.1          3.8           1.6          0.2\n",
       "123           6.3          2.7           4.9          1.8\n",
       "11            4.8          3.4           1.6          0.2\n",
       "47            4.6          3.2           1.4          0.2\n",
       "132           6.4          2.8           5.6          2.2\n",
       "..            ...          ...           ...          ...\n",
       "70            5.9          3.2           4.8          1.8\n",
       "100           6.3          3.3           6.0          2.5\n",
       "62            6.0          2.2           4.0          1.0\n",
       "146           6.3          2.5           5.0          1.9\n",
       "117           7.7          3.8           6.7          2.2\n",
       "\n",
       "[135 rows x 4 columns]"
      ]
     },
     "execution_count": 15,
     "metadata": {},
     "output_type": "execute_result"
    }
   ],
   "source": [
    "train"
   ]
  },
  {
   "cell_type": "code",
   "execution_count": 16,
   "metadata": {},
   "outputs": [
    {
     "data": {
      "text/html": [
       "<div>\n",
       "<style scoped>\n",
       "    .dataframe tbody tr th:only-of-type {\n",
       "        vertical-align: middle;\n",
       "    }\n",
       "\n",
       "    .dataframe tbody tr th {\n",
       "        vertical-align: top;\n",
       "    }\n",
       "\n",
       "    .dataframe thead th {\n",
       "        text-align: right;\n",
       "    }\n",
       "</style>\n",
       "<table border=\"1\" class=\"dataframe\">\n",
       "  <thead>\n",
       "    <tr style=\"text-align: right;\">\n",
       "      <th></th>\n",
       "      <th>Total</th>\n",
       "      <th>Percent</th>\n",
       "    </tr>\n",
       "  </thead>\n",
       "  <tbody>\n",
       "    <tr>\n",
       "      <th>petal-width</th>\n",
       "      <td>0</td>\n",
       "      <td>0.0</td>\n",
       "    </tr>\n",
       "    <tr>\n",
       "      <th>petal-length</th>\n",
       "      <td>0</td>\n",
       "      <td>0.0</td>\n",
       "    </tr>\n",
       "    <tr>\n",
       "      <th>sepal-width</th>\n",
       "      <td>0</td>\n",
       "      <td>0.0</td>\n",
       "    </tr>\n",
       "    <tr>\n",
       "      <th>sepal-length</th>\n",
       "      <td>0</td>\n",
       "      <td>0.0</td>\n",
       "    </tr>\n",
       "  </tbody>\n",
       "</table>\n",
       "</div>"
      ],
      "text/plain": [
       "              Total  Percent\n",
       "petal-width       0      0.0\n",
       "petal-length      0      0.0\n",
       "sepal-width       0      0.0\n",
       "sepal-length      0      0.0"
      ]
     },
     "execution_count": 16,
     "metadata": {},
     "output_type": "execute_result"
    }
   ],
   "source": [
    "missing_data(train)"
   ]
  },
  {
   "cell_type": "code",
   "execution_count": 17,
   "metadata": {},
   "outputs": [
    {
     "data": {
      "text/html": [
       "<div>\n",
       "<style scoped>\n",
       "    .dataframe tbody tr th:only-of-type {\n",
       "        vertical-align: middle;\n",
       "    }\n",
       "\n",
       "    .dataframe tbody tr th {\n",
       "        vertical-align: top;\n",
       "    }\n",
       "\n",
       "    .dataframe thead th {\n",
       "        text-align: right;\n",
       "    }\n",
       "</style>\n",
       "<table border=\"1\" class=\"dataframe\">\n",
       "  <thead>\n",
       "    <tr style=\"text-align: right;\">\n",
       "      <th></th>\n",
       "      <th>Total</th>\n",
       "      <th>Percent</th>\n",
       "    </tr>\n",
       "  </thead>\n",
       "  <tbody>\n",
       "    <tr>\n",
       "      <th>petal-width</th>\n",
       "      <td>0</td>\n",
       "      <td>0.0</td>\n",
       "    </tr>\n",
       "    <tr>\n",
       "      <th>petal-length</th>\n",
       "      <td>0</td>\n",
       "      <td>0.0</td>\n",
       "    </tr>\n",
       "    <tr>\n",
       "      <th>sepal-width</th>\n",
       "      <td>0</td>\n",
       "      <td>0.0</td>\n",
       "    </tr>\n",
       "    <tr>\n",
       "      <th>sepal-length</th>\n",
       "      <td>0</td>\n",
       "      <td>0.0</td>\n",
       "    </tr>\n",
       "  </tbody>\n",
       "</table>\n",
       "</div>"
      ],
      "text/plain": [
       "              Total  Percent\n",
       "petal-width       0      0.0\n",
       "petal-length      0      0.0\n",
       "sepal-width       0      0.0\n",
       "sepal-length      0      0.0"
      ]
     },
     "execution_count": 17,
     "metadata": {},
     "output_type": "execute_result"
    }
   ],
   "source": [
    "missing_data(test)"
   ]
  },
  {
   "cell_type": "code",
   "execution_count": 18,
   "metadata": {},
   "outputs": [],
   "source": [
    "cats, nums = get_cats_nums(train)"
   ]
  },
  {
   "cell_type": "code",
   "execution_count": 19,
   "metadata": {},
   "outputs": [
    {
     "data": {
      "text/plain": [
       "[]"
      ]
     },
     "execution_count": 19,
     "metadata": {},
     "output_type": "execute_result"
    }
   ],
   "source": [
    "cats"
   ]
  },
  {
   "cell_type": "code",
   "execution_count": 20,
   "metadata": {},
   "outputs": [
    {
     "data": {
      "text/plain": [
       "['sepal-length', 'sepal-width', 'petal-length', 'petal-width']"
      ]
     },
     "execution_count": 20,
     "metadata": {},
     "output_type": "execute_result"
    }
   ],
   "source": [
    "nums"
   ]
  },
  {
   "cell_type": "code",
   "execution_count": 21,
   "metadata": {},
   "outputs": [],
   "source": [
    "feats = train.columns"
   ]
  },
  {
   "cell_type": "code",
   "execution_count": 22,
   "metadata": {},
   "outputs": [
    {
     "data": {
      "text/plain": [
       "Index(['sepal-length', 'sepal-width', 'petal-length', 'petal-width'], dtype='object')"
      ]
     },
     "execution_count": 22,
     "metadata": {},
     "output_type": "execute_result"
    }
   ],
   "source": [
    "feats"
   ]
  },
  {
   "cell_type": "code",
   "execution_count": 23,
   "metadata": {},
   "outputs": [],
   "source": [
    "### MODEL\n",
    "from sklearn.model_selection import KFold, StratifiedKFold\n",
    "from sklearn.metrics import accuracy_score\n",
    "params = {\n",
    "    'boosting_type': 'gbdt',\n",
    "    'objective': 'multiclass',\n",
    "    'num_class': 3,\n",
    "    'metric': 'multi_logloss',\n",
    "   # 'eta': 0.001,\n",
    "#     'bagging_fraction': 0.9,\n",
    "#     'bagging_freq': 5,\n",
    "    'random_state': 13,\n",
    "    'num_leaves': 20,# (2**7)-20,\n",
    "    'max_depth': -1, #default\n",
    "    'n_jobs': -1, #all cores\n",
    "#     'feature_fraction': 0.8,\n",
    "#     'reg_alpha': 0.3,\n",
    "#     'reg_lambda': 0.1,\n",
    "#    'categorical_feature': cats#randomstuff\n",
    "}"
   ]
  },
  {
   "cell_type": "code",
   "execution_count": 24,
   "metadata": {},
   "outputs": [
    {
     "data": {
      "text/plain": [
       "((135, 4), (15, 4), (135,), (15,))"
      ]
     },
     "execution_count": 24,
     "metadata": {},
     "output_type": "execute_result"
    }
   ],
   "source": [
    "train.shape, test.shape, y.shape, y_test.shape"
   ]
  },
  {
   "cell_type": "code",
   "execution_count": 25,
   "metadata": {},
   "outputs": [],
   "source": [
    "skf = StratifiedKFold(n_splits=3, shuffle=True, random_state=13)"
   ]
  },
  {
   "cell_type": "code",
   "execution_count": 26,
   "metadata": {},
   "outputs": [],
   "source": [
    "skf_splitted = skf.split(train[feats], y)\n",
    "#train[cats] = train[cats].astype('category')"
   ]
  },
  {
   "cell_type": "code",
   "execution_count": 27,
   "metadata": {},
   "outputs": [],
   "source": [
    "# for i, b in skf_splitted:\n",
    "#     print(len(i), len(b))"
   ]
  },
  {
   "cell_type": "code",
   "execution_count": 28,
   "metadata": {},
   "outputs": [],
   "source": [
    "lgb_model = MultiClassLGBMCV(cv=skf_splitted, **params)"
   ]
  },
  {
   "cell_type": "code",
   "execution_count": 29,
   "metadata": {},
   "outputs": [
    {
     "data": {
      "text/plain": [
       "((135, 4), (135,))"
      ]
     },
     "execution_count": 29,
     "metadata": {},
     "output_type": "execute_result"
    }
   ],
   "source": [
    "train.shape, y.shape"
   ]
  },
  {
   "cell_type": "code",
   "execution_count": 30,
   "metadata": {},
   "outputs": [
    {
     "data": {
      "text/plain": [
       "((15, 4), (15,))"
      ]
     },
     "execution_count": 30,
     "metadata": {},
     "output_type": "execute_result"
    }
   ],
   "source": [
    "test.shape, y_test.shape"
   ]
  },
  {
   "cell_type": "code",
   "execution_count": 31,
   "metadata": {},
   "outputs": [
    {
     "name": "stderr",
     "output_type": "stream",
     "text": [
      "/home/kalibrr/anaconda3/envs/hackfest/lib/python3.7/site-packages/lightgbm/basic.py:1247: UserWarning: categorical_feature in Dataset is overridden.\n",
      "New categorical_feature is []\n",
      "  'New categorical_feature is {}'.format(sorted(list(categorical_feature))))\n"
     ]
    },
    {
     "name": "stdout",
     "output_type": "stream",
     "text": [
      "[1]\ttrain's multi_logloss: 0.972035\ttrain's f1: 0.955506\teval's multi_logloss: 0.972226\teval's f1: 0.955357\n",
      "Training until validation scores don't improve for 20 rounds\n",
      "[2]\ttrain's multi_logloss: 0.867096\ttrain's f1: 0.955506\teval's multi_logloss: 0.867603\teval's f1: 0.955357\n",
      "[3]\ttrain's multi_logloss: 0.778354\ttrain's f1: 0.955506\teval's multi_logloss: 0.777774\teval's f1: 0.955357\n",
      "[4]\ttrain's multi_logloss: 0.702327\ttrain's f1: 0.955506\teval's multi_logloss: 0.69849\teval's f1: 0.955357\n",
      "[5]\ttrain's multi_logloss: 0.636456\ttrain's f1: 0.955506\teval's multi_logloss: 0.63308\teval's f1: 0.955357\n",
      "[6]\ttrain's multi_logloss: 0.578926\ttrain's f1: 0.955506\teval's multi_logloss: 0.572737\teval's f1: 0.955357\n",
      "[7]\ttrain's multi_logloss: 0.528288\ttrain's f1: 0.955506\teval's multi_logloss: 0.522984\teval's f1: 0.955357\n",
      "[8]\ttrain's multi_logloss: 0.483379\ttrain's f1: 0.955506\teval's multi_logloss: 0.474522\teval's f1: 0.955357\n",
      "[9]\ttrain's multi_logloss: 0.443588\ttrain's f1: 0.955506\teval's multi_logloss: 0.437364\teval's f1: 0.955357\n",
      "[10]\ttrain's multi_logloss: 0.408055\ttrain's f1: 0.955506\teval's multi_logloss: 0.403181\teval's f1: 0.955357\n",
      "[11]\ttrain's multi_logloss: 0.3766\ttrain's f1: 0.955506\teval's multi_logloss: 0.372859\teval's f1: 0.955357\n",
      "[12]\ttrain's multi_logloss: 0.348201\ttrain's f1: 0.955506\teval's multi_logloss: 0.345781\teval's f1: 0.955357\n",
      "[13]\ttrain's multi_logloss: 0.323045\ttrain's f1: 0.955506\teval's multi_logloss: 0.322908\teval's f1: 0.955357\n",
      "[14]\ttrain's multi_logloss: 0.300203\ttrain's f1: 0.955506\teval's multi_logloss: 0.301594\teval's f1: 0.955357\n",
      "[15]\ttrain's multi_logloss: 0.279916\ttrain's f1: 0.955506\teval's multi_logloss: 0.283455\teval's f1: 0.955357\n",
      "[16]\ttrain's multi_logloss: 0.260819\ttrain's f1: 0.966657\teval's multi_logloss: 0.26416\teval's f1: 0.955357\n",
      "[17]\ttrain's multi_logloss: 0.24427\ttrain's f1: 0.966657\teval's multi_logloss: 0.249781\teval's f1: 0.955357\n",
      "[18]\ttrain's multi_logloss: 0.228861\ttrain's f1: 0.966657\teval's multi_logloss: 0.235126\teval's f1: 0.955357\n",
      "[19]\ttrain's multi_logloss: 0.214757\ttrain's f1: 0.966657\teval's multi_logloss: 0.225126\teval's f1: 0.93266\n",
      "[20]\ttrain's multi_logloss: 0.201723\ttrain's f1: 0.966657\teval's multi_logloss: 0.212241\teval's f1: 0.93266\n",
      "[21]\ttrain's multi_logloss: 0.19009\ttrain's f1: 0.966657\teval's multi_logloss: 0.204432\teval's f1: 0.93266\n",
      "Early stopping, best iteration is:\n",
      "[1]\ttrain's multi_logloss: 0.972035\ttrain's f1: 0.955506\teval's multi_logloss: 0.972226\teval's f1: 0.955357\n",
      "[1]\ttrain's multi_logloss: 0.972035\ttrain's f1: 0.955506\teval's multi_logloss: 0.972261\teval's f1: 0.955357\n",
      "Training until validation scores don't improve for 20 rounds\n",
      "[2]\ttrain's multi_logloss: 0.865667\ttrain's f1: 0.977778\teval's multi_logloss: 0.866608\teval's f1: 0.933259\n",
      "[3]\ttrain's multi_logloss: 0.775982\ttrain's f1: 0.977778\teval's multi_logloss: 0.775659\teval's f1: 0.933259\n",
      "[4]\ttrain's multi_logloss: 0.699274\ttrain's f1: 0.977778\teval's multi_logloss: 0.697307\teval's f1: 0.933259\n",
      "[5]\ttrain's multi_logloss: 0.632721\ttrain's f1: 0.966657\teval's multi_logloss: 0.630918\teval's f1: 0.955357\n",
      "[6]\ttrain's multi_logloss: 0.574958\ttrain's f1: 0.966657\teval's multi_logloss: 0.573278\teval's f1: 0.955357\n",
      "[7]\ttrain's multi_logloss: 0.524375\ttrain's f1: 0.966657\teval's multi_logloss: 0.521278\teval's f1: 0.955357\n",
      "[8]\ttrain's multi_logloss: 0.479589\ttrain's f1: 0.966657\teval's multi_logloss: 0.478101\teval's f1: 0.977753\n",
      "[9]\ttrain's multi_logloss: 0.440151\ttrain's f1: 0.966657\teval's multi_logloss: 0.439388\teval's f1: 0.977753\n",
      "[10]\ttrain's multi_logloss: 0.405001\ttrain's f1: 0.966657\teval's multi_logloss: 0.405702\teval's f1: 0.977753\n",
      "[11]\ttrain's multi_logloss: 0.373932\ttrain's f1: 0.966657\teval's multi_logloss: 0.375355\teval's f1: 0.977753\n",
      "[12]\ttrain's multi_logloss: 0.346029\ttrain's f1: 0.966657\teval's multi_logloss: 0.348827\teval's f1: 0.977753\n",
      "[13]\ttrain's multi_logloss: 0.321145\ttrain's f1: 0.955556\teval's multi_logloss: 0.325282\teval's f1: 0.977753\n",
      "[14]\ttrain's multi_logloss: 0.298175\ttrain's f1: 0.955556\teval's multi_logloss: 0.30525\teval's f1: 0.977753\n",
      "[15]\ttrain's multi_logloss: 0.278229\ttrain's f1: 0.955556\teval's multi_logloss: 0.286565\teval's f1: 0.977753\n",
      "[16]\ttrain's multi_logloss: 0.260387\ttrain's f1: 0.955556\teval's multi_logloss: 0.269549\teval's f1: 0.977753\n",
      "[17]\ttrain's multi_logloss: 0.24429\ttrain's f1: 0.955556\teval's multi_logloss: 0.25397\teval's f1: 0.977753\n",
      "[18]\ttrain's multi_logloss: 0.22978\ttrain's f1: 0.955556\teval's multi_logloss: 0.240267\teval's f1: 0.977753\n",
      "[19]\ttrain's multi_logloss: 0.216266\ttrain's f1: 0.955556\teval's multi_logloss: 0.229741\teval's f1: 0.977753\n",
      "[20]\ttrain's multi_logloss: 0.203175\ttrain's f1: 0.955556\teval's multi_logloss: 0.221399\teval's f1: 0.977753\n",
      "[21]\ttrain's multi_logloss: 0.191503\ttrain's f1: 0.955556\teval's multi_logloss: 0.212527\teval's f1: 0.977753\n",
      "[22]\ttrain's multi_logloss: 0.180883\ttrain's f1: 0.955556\teval's multi_logloss: 0.204589\teval's f1: 0.977753\n",
      "[23]\ttrain's multi_logloss: 0.171062\ttrain's f1: 0.955556\teval's multi_logloss: 0.197315\teval's f1: 0.977753\n",
      "[24]\ttrain's multi_logloss: 0.162204\ttrain's f1: 0.955556\teval's multi_logloss: 0.190897\teval's f1: 0.977753\n",
      "[25]\ttrain's multi_logloss: 0.154027\ttrain's f1: 0.955556\teval's multi_logloss: 0.185354\teval's f1: 0.977753\n",
      "[26]\ttrain's multi_logloss: 0.146393\ttrain's f1: 0.955556\teval's multi_logloss: 0.180145\teval's f1: 0.977753\n",
      "[27]\ttrain's multi_logloss: 0.139524\ttrain's f1: 0.955556\teval's multi_logloss: 0.175822\teval's f1: 0.977753\n",
      "[28]\ttrain's multi_logloss: 0.133018\ttrain's f1: 0.955556\teval's multi_logloss: 0.171689\teval's f1: 0.977753\n",
      "Early stopping, best iteration is:\n",
      "[8]\ttrain's multi_logloss: 0.479589\ttrain's f1: 0.966657\teval's multi_logloss: 0.478101\teval's f1: 0.977753\n",
      "[1]\ttrain's multi_logloss: 0.96755\ttrain's f1: 0.977753\teval's multi_logloss: 0.974525\teval's f1: 0.93266\n",
      "Training until validation scores don't improve for 20 rounds\n",
      "[2]\ttrain's multi_logloss: 0.857653\ttrain's f1: 0.966583\teval's multi_logloss: 0.871631\teval's f1: 0.933259\n",
      "[3]\ttrain's multi_logloss: 0.764316\ttrain's f1: 0.977753\teval's multi_logloss: 0.784265\teval's f1: 0.93266\n",
      "[4]\ttrain's multi_logloss: 0.684321\ttrain's f1: 0.977753\teval's multi_logloss: 0.710035\teval's f1: 0.93266\n",
      "[5]\ttrain's multi_logloss: 0.615127\ttrain's f1: 0.977753\teval's multi_logloss: 0.646393\teval's f1: 0.93266\n",
      "[6]\ttrain's multi_logloss: 0.554864\ttrain's f1: 0.977753\teval's multi_logloss: 0.591512\teval's f1: 0.93266\n",
      "[7]\ttrain's multi_logloss: 0.502086\ttrain's f1: 0.977753\teval's multi_logloss: 0.543978\teval's f1: 0.93266\n",
      "[8]\ttrain's multi_logloss: 0.455367\ttrain's f1: 0.966583\teval's multi_logloss: 0.502835\teval's f1: 0.933259\n",
      "[9]\ttrain's multi_logloss: 0.413988\ttrain's f1: 0.988886\teval's multi_logloss: 0.464513\teval's f1: 0.93266\n",
      "[10]\ttrain's multi_logloss: 0.377542\ttrain's f1: 0.988886\teval's multi_logloss: 0.433047\teval's f1: 0.93266\n",
      "[11]\ttrain's multi_logloss: 0.34509\ttrain's f1: 0.988886\teval's multi_logloss: 0.408133\teval's f1: 0.910714\n",
      "[12]\ttrain's multi_logloss: 0.316184\ttrain's f1: 0.988886\teval's multi_logloss: 0.38655\teval's f1: 0.910714\n",
      "[13]\ttrain's multi_logloss: 0.290179\ttrain's f1: 0.988886\teval's multi_logloss: 0.365297\teval's f1: 0.910714\n",
      "[14]\ttrain's multi_logloss: 0.266498\ttrain's f1: 0.988886\teval's multi_logloss: 0.346686\teval's f1: 0.910714\n",
      "[15]\ttrain's multi_logloss: 0.245282\ttrain's f1: 0.988886\teval's multi_logloss: 0.330771\teval's f1: 0.910714\n",
      "[16]\ttrain's multi_logloss: 0.226079\ttrain's f1: 0.988886\teval's multi_logloss: 0.316338\teval's f1: 0.910714\n",
      "[17]\ttrain's multi_logloss: 0.209031\ttrain's f1: 0.988886\teval's multi_logloss: 0.303838\teval's f1: 0.910714\n",
      "[18]\ttrain's multi_logloss: 0.193685\ttrain's f1: 0.988886\teval's multi_logloss: 0.295012\teval's f1: 0.910714\n",
      "[19]\ttrain's multi_logloss: 0.179366\ttrain's f1: 0.988886\teval's multi_logloss: 0.281899\teval's f1: 0.910714\n",
      "[20]\ttrain's multi_logloss: 0.166783\ttrain's f1: 0.988886\teval's multi_logloss: 0.275585\teval's f1: 0.910714\n",
      "[21]\ttrain's multi_logloss: 0.15517\ttrain's f1: 0.988886\teval's multi_logloss: 0.269086\teval's f1: 0.910714\n",
      "[22]\ttrain's multi_logloss: 0.144585\ttrain's f1: 0.988886\teval's multi_logloss: 0.262526\teval's f1: 0.910714\n",
      "Early stopping, best iteration is:\n",
      "[2]\ttrain's multi_logloss: 0.857653\ttrain's f1: 0.966583\teval's multi_logloss: 0.871631\teval's f1: 0.933259\n"
     ]
    },
    {
     "data": {
      "text/plain": [
       "<__main__.MultiClassLGBMCV at 0x7fc37ec9fe10>"
      ]
     },
     "execution_count": 31,
     "metadata": {},
     "output_type": "execute_result"
    }
   ],
   "source": [
    "lgb_model.fit(train[feats], y, num_boost_round=100, \\\n",
    "              early_stopping_rounds=20, verbose_eval=1, categorical_feature=cats)"
   ]
  },
  {
   "cell_type": "code",
   "execution_count": 32,
   "metadata": {
    "scrolled": true
   },
   "outputs": [
    {
     "data": {
      "text/plain": [
       "0.9554564595582393"
      ]
     },
     "execution_count": 32,
     "metadata": {},
     "output_type": "execute_result"
    }
   ],
   "source": [
    "cv_score = np.mean(lgb_model.model_scores_); cv_score"
   ]
  },
  {
   "cell_type": "code",
   "execution_count": 33,
   "metadata": {},
   "outputs": [
    {
     "data": {
      "text/html": [
       "<div>\n",
       "<style scoped>\n",
       "    .dataframe tbody tr th:only-of-type {\n",
       "        vertical-align: middle;\n",
       "    }\n",
       "\n",
       "    .dataframe tbody tr th {\n",
       "        vertical-align: top;\n",
       "    }\n",
       "\n",
       "    .dataframe thead th {\n",
       "        text-align: right;\n",
       "    }\n",
       "</style>\n",
       "<table border=\"1\" class=\"dataframe\">\n",
       "  <thead>\n",
       "    <tr style=\"text-align: right;\">\n",
       "      <th></th>\n",
       "      <th>gain_0</th>\n",
       "      <th>split_0</th>\n",
       "      <th>gain_1</th>\n",
       "      <th>split_1</th>\n",
       "      <th>gain_2</th>\n",
       "      <th>split_2</th>\n",
       "    </tr>\n",
       "  </thead>\n",
       "  <tbody>\n",
       "    <tr>\n",
       "      <th>sepal-length</th>\n",
       "      <td>0.073707</td>\n",
       "      <td>2</td>\n",
       "      <td>0.219057</td>\n",
       "      <td>4</td>\n",
       "      <td>0.509789</td>\n",
       "      <td>2</td>\n",
       "    </tr>\n",
       "    <tr>\n",
       "      <th>sepal-width</th>\n",
       "      <td>0.000000</td>\n",
       "      <td>0</td>\n",
       "      <td>0.982871</td>\n",
       "      <td>7</td>\n",
       "      <td>0.000015</td>\n",
       "      <td>1</td>\n",
       "    </tr>\n",
       "    <tr>\n",
       "      <th>petal-length</th>\n",
       "      <td>118.384800</td>\n",
       "      <td>4</td>\n",
       "      <td>471.863596</td>\n",
       "      <td>30</td>\n",
       "      <td>142.011143</td>\n",
       "      <td>7</td>\n",
       "    </tr>\n",
       "    <tr>\n",
       "      <th>petal-width</th>\n",
       "      <td>0.000000</td>\n",
       "      <td>0</td>\n",
       "      <td>107.163090</td>\n",
       "      <td>7</td>\n",
       "      <td>82.935400</td>\n",
       "      <td>3</td>\n",
       "    </tr>\n",
       "  </tbody>\n",
       "</table>\n",
       "</div>"
      ],
      "text/plain": [
       "                  gain_0  split_0      gain_1  split_1      gain_2  split_2\n",
       "sepal-length    0.073707        2    0.219057        4    0.509789        2\n",
       "sepal-width     0.000000        0    0.982871        7    0.000015        1\n",
       "petal-length  118.384800        4  471.863596       30  142.011143        7\n",
       "petal-width     0.000000        0  107.163090        7   82.935400        3"
      ]
     },
     "execution_count": 33,
     "metadata": {},
     "output_type": "execute_result"
    }
   ],
   "source": [
    "lgb_model.feature_importances_"
   ]
  },
  {
   "cell_type": "code",
   "execution_count": 34,
   "metadata": {},
   "outputs": [
    {
     "data": {
      "text/plain": [
       "[0.9553571428571429, 0.9777530589543938, 0.9332591768631814]"
      ]
     },
     "execution_count": 34,
     "metadata": {},
     "output_type": "execute_result"
    }
   ],
   "source": [
    "lgb_model.model_scores_"
   ]
  },
  {
   "cell_type": "code",
   "execution_count": 35,
   "metadata": {},
   "outputs": [
    {
     "data": {
      "text/plain": [
       "array([0., 0., 0., 2., 2., 1., 2., 1., 0., 0., 2., 1., 1., 2., 1.])"
      ]
     },
     "execution_count": 35,
     "metadata": {},
     "output_type": "execute_result"
    }
   ],
   "source": [
    "lgb_model.predict(test[feats])"
   ]
  },
  {
   "cell_type": "code",
   "execution_count": 36,
   "metadata": {},
   "outputs": [],
   "source": [
    "# test[cats] = test[cats].astype('category')"
   ]
  },
  {
   "cell_type": "code",
   "execution_count": 37,
   "metadata": {},
   "outputs": [],
   "source": [
    "test_dataset_score = f1_score(y_test, lgb_model.predict(test[feats]), average='weighted')"
   ]
  },
  {
   "cell_type": "code",
   "execution_count": 38,
   "metadata": {},
   "outputs": [
    {
     "name": "stdout",
     "output_type": "stream",
     "text": [
      "test dataset performance is: 1.0\n"
     ]
    }
   ],
   "source": [
    "print(f\"test dataset performance is: {test_dataset_score}\")"
   ]
  }
 ],
 "metadata": {
  "kernelspec": {
   "display_name": "Python 3",
   "language": "python",
   "name": "python3"
  },
  "language_info": {
   "codemirror_mode": {
    "name": "ipython",
    "version": 3
   },
   "file_extension": ".py",
   "mimetype": "text/x-python",
   "name": "python",
   "nbconvert_exporter": "python",
   "pygments_lexer": "ipython3",
   "version": "3.7.5"
  }
 },
 "nbformat": 4,
 "nbformat_minor": 2
}
