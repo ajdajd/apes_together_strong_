{
 "cells": [
  {
   "cell_type": "code",
   "execution_count": 1,
   "metadata": {},
   "outputs": [
    {
     "name": "stdout",
     "output_type": "stream",
     "text": [
      "(241, 21)\n",
      "(80, 20)\n"
     ]
    }
   ],
   "source": [
    "import pandas as pd\n",
    "import numpy as np\n",
    "from utils.eda import reduce_mem_usage, missing_data, get_cats_nums\n",
    "\n",
    "path = \"../data/mlhackfest-haribon1//\"\n",
    "train = pd.read_csv(path+\"train.csv\")\n",
    "test = pd.read_csv(path+\"test.csv\")\n",
    "\n",
    "print(train.shape)\n",
    "print(test.shape)"
   ]
  },
  {
   "cell_type": "code",
   "execution_count": 2,
   "metadata": {},
   "outputs": [],
   "source": [
    "train.columns = [f.lower() for f in train.columns]\n",
    "test.columns = [f.lower() for f in test.columns]"
   ]
  },
  {
   "cell_type": "code",
   "execution_count": 3,
   "metadata": {},
   "outputs": [
    {
     "data": {
      "text/html": [
       "<div>\n",
       "<style scoped>\n",
       "    .dataframe tbody tr th:only-of-type {\n",
       "        vertical-align: middle;\n",
       "    }\n",
       "\n",
       "    .dataframe tbody tr th {\n",
       "        vertical-align: top;\n",
       "    }\n",
       "\n",
       "    .dataframe thead th {\n",
       "        text-align: right;\n",
       "    }\n",
       "</style>\n",
       "<table border=\"1\" class=\"dataframe\">\n",
       "  <thead>\n",
       "    <tr style=\"text-align: right;\">\n",
       "      <th></th>\n",
       "      <th>indexid</th>\n",
       "      <th>scientific name</th>\n",
       "      <th>annual mean temperature</th>\n",
       "      <th>mean diurnal range</th>\n",
       "      <th>isothermality</th>\n",
       "      <th>temperature seasonality</th>\n",
       "      <th>max temperature of warmest month</th>\n",
       "      <th>min temperature of coldest month</th>\n",
       "      <th>temperature annual range</th>\n",
       "      <th>mean temperature of wettest quarter</th>\n",
       "      <th>...</th>\n",
       "      <th>mean temperature of warmest quarter</th>\n",
       "      <th>mean temperature of coldest quarter</th>\n",
       "      <th>annual precipitation</th>\n",
       "      <th>precipitation of wettest month</th>\n",
       "      <th>precipitation of driest month</th>\n",
       "      <th>precipitation seasonality</th>\n",
       "      <th>precipitation of wettest quarter</th>\n",
       "      <th>precipitation of driest quarter</th>\n",
       "      <th>precipitation of warmest quarter</th>\n",
       "      <th>precipitation of coldest quarter</th>\n",
       "    </tr>\n",
       "  </thead>\n",
       "  <tbody>\n",
       "    <tr>\n",
       "      <th>0</th>\n",
       "      <td>1</td>\n",
       "      <td>Cacatua haematuropygia</td>\n",
       "      <td>NaN</td>\n",
       "      <td>NaN</td>\n",
       "      <td>NaN</td>\n",
       "      <td>NaN</td>\n",
       "      <td>NaN</td>\n",
       "      <td>NaN</td>\n",
       "      <td>NaN</td>\n",
       "      <td>NaN</td>\n",
       "      <td>...</td>\n",
       "      <td>NaN</td>\n",
       "      <td>NaN</td>\n",
       "      <td>NaN</td>\n",
       "      <td>NaN</td>\n",
       "      <td>NaN</td>\n",
       "      <td>NaN</td>\n",
       "      <td>NaN</td>\n",
       "      <td>NaN</td>\n",
       "      <td>NaN</td>\n",
       "      <td>NaN</td>\n",
       "    </tr>\n",
       "    <tr>\n",
       "      <th>1</th>\n",
       "      <td>4</td>\n",
       "      <td>Anas luzonica</td>\n",
       "      <td>NaN</td>\n",
       "      <td>NaN</td>\n",
       "      <td>NaN</td>\n",
       "      <td>NaN</td>\n",
       "      <td>NaN</td>\n",
       "      <td>NaN</td>\n",
       "      <td>NaN</td>\n",
       "      <td>NaN</td>\n",
       "      <td>...</td>\n",
       "      <td>NaN</td>\n",
       "      <td>NaN</td>\n",
       "      <td>NaN</td>\n",
       "      <td>NaN</td>\n",
       "      <td>NaN</td>\n",
       "      <td>NaN</td>\n",
       "      <td>NaN</td>\n",
       "      <td>NaN</td>\n",
       "      <td>NaN</td>\n",
       "      <td>NaN</td>\n",
       "    </tr>\n",
       "    <tr>\n",
       "      <th>2</th>\n",
       "      <td>7</td>\n",
       "      <td>Cacatua haematuropygia</td>\n",
       "      <td>63.090</td>\n",
       "      <td>19.902</td>\n",
       "      <td>2432.0</td>\n",
       "      <td>25.639</td>\n",
       "      <td>117.493</td>\n",
       "      <td>420.0</td>\n",
       "      <td>7.148</td>\n",
       "      <td>25.357</td>\n",
       "      <td>...</td>\n",
       "      <td>178.0</td>\n",
       "      <td>896.0</td>\n",
       "      <td>11.330</td>\n",
       "      <td>26.975</td>\n",
       "      <td>52.334</td>\n",
       "      <td>31.232</td>\n",
       "      <td>53.0</td>\n",
       "      <td>305.0</td>\n",
       "      <td>26.028</td>\n",
       "      <td>23.993</td>\n",
       "    </tr>\n",
       "    <tr>\n",
       "      <th>3</th>\n",
       "      <td>8</td>\n",
       "      <td>Pithecophaga jeffeyri</td>\n",
       "      <td>66.983</td>\n",
       "      <td>20.849</td>\n",
       "      <td>2044.0</td>\n",
       "      <td>26.936</td>\n",
       "      <td>112.042</td>\n",
       "      <td>166.0</td>\n",
       "      <td>8.192</td>\n",
       "      <td>25.870</td>\n",
       "      <td>...</td>\n",
       "      <td>71.0</td>\n",
       "      <td>971.0</td>\n",
       "      <td>12.230</td>\n",
       "      <td>28.357</td>\n",
       "      <td>73.092</td>\n",
       "      <td>33.079</td>\n",
       "      <td>15.0</td>\n",
       "      <td>340.0</td>\n",
       "      <td>27.275</td>\n",
       "      <td>25.442</td>\n",
       "    </tr>\n",
       "    <tr>\n",
       "      <th>4</th>\n",
       "      <td>10</td>\n",
       "      <td>Cacatua haematuropygia</td>\n",
       "      <td>76.739</td>\n",
       "      <td>21.074</td>\n",
       "      <td>2113.0</td>\n",
       "      <td>26.943</td>\n",
       "      <td>63.116</td>\n",
       "      <td>569.0</td>\n",
       "      <td>9.091</td>\n",
       "      <td>27.528</td>\n",
       "      <td>...</td>\n",
       "      <td>429.0</td>\n",
       "      <td>663.0</td>\n",
       "      <td>11.847</td>\n",
       "      <td>27.757</td>\n",
       "      <td>26.627</td>\n",
       "      <td>32.921</td>\n",
       "      <td>135.0</td>\n",
       "      <td>298.0</td>\n",
       "      <td>27.095</td>\n",
       "      <td>26.139</td>\n",
       "    </tr>\n",
       "  </tbody>\n",
       "</table>\n",
       "<p>5 rows × 21 columns</p>\n",
       "</div>"
      ],
      "text/plain": [
       "   indexid         scientific name  annual mean temperature  \\\n",
       "0        1  Cacatua haematuropygia                      NaN   \n",
       "1        4           Anas luzonica                      NaN   \n",
       "2        7  Cacatua haematuropygia                   63.090   \n",
       "3        8   Pithecophaga jeffeyri                   66.983   \n",
       "4       10  Cacatua haematuropygia                   76.739   \n",
       "\n",
       "   mean diurnal range  isothermality  temperature seasonality  \\\n",
       "0                 NaN            NaN                      NaN   \n",
       "1                 NaN            NaN                      NaN   \n",
       "2              19.902         2432.0                   25.639   \n",
       "3              20.849         2044.0                   26.936   \n",
       "4              21.074         2113.0                   26.943   \n",
       "\n",
       "   max temperature of warmest month  min temperature of coldest month  \\\n",
       "0                               NaN                               NaN   \n",
       "1                               NaN                               NaN   \n",
       "2                           117.493                             420.0   \n",
       "3                           112.042                             166.0   \n",
       "4                            63.116                             569.0   \n",
       "\n",
       "   temperature annual range  mean temperature of wettest quarter  ...  \\\n",
       "0                       NaN                                  NaN  ...   \n",
       "1                       NaN                                  NaN  ...   \n",
       "2                     7.148                               25.357  ...   \n",
       "3                     8.192                               25.870  ...   \n",
       "4                     9.091                               27.528  ...   \n",
       "\n",
       "   mean temperature of warmest quarter  mean temperature of coldest quarter  \\\n",
       "0                                  NaN                                  NaN   \n",
       "1                                  NaN                                  NaN   \n",
       "2                                178.0                                896.0   \n",
       "3                                 71.0                                971.0   \n",
       "4                                429.0                                663.0   \n",
       "\n",
       "   annual precipitation  precipitation of wettest month  \\\n",
       "0                   NaN                             NaN   \n",
       "1                   NaN                             NaN   \n",
       "2                11.330                          26.975   \n",
       "3                12.230                          28.357   \n",
       "4                11.847                          27.757   \n",
       "\n",
       "   precipitation of driest month  precipitation seasonality  \\\n",
       "0                            NaN                        NaN   \n",
       "1                            NaN                        NaN   \n",
       "2                         52.334                     31.232   \n",
       "3                         73.092                     33.079   \n",
       "4                         26.627                     32.921   \n",
       "\n",
       "   precipitation of wettest quarter  precipitation of driest quarter  \\\n",
       "0                               NaN                              NaN   \n",
       "1                               NaN                              NaN   \n",
       "2                              53.0                            305.0   \n",
       "3                              15.0                            340.0   \n",
       "4                             135.0                            298.0   \n",
       "\n",
       "   precipitation of warmest quarter  precipitation of coldest quarter  \n",
       "0                               NaN                               NaN  \n",
       "1                               NaN                               NaN  \n",
       "2                            26.028                            23.993  \n",
       "3                            27.275                            25.442  \n",
       "4                            27.095                            26.139  \n",
       "\n",
       "[5 rows x 21 columns]"
      ]
     },
     "execution_count": 3,
     "metadata": {},
     "output_type": "execute_result"
    }
   ],
   "source": [
    "train.head()"
   ]
  },
  {
   "cell_type": "markdown",
   "metadata": {},
   "source": [
    "# Missing values"
   ]
  },
  {
   "cell_type": "code",
   "execution_count": 4,
   "metadata": {},
   "outputs": [
    {
     "data": {
      "text/html": [
       "<div>\n",
       "<style scoped>\n",
       "    .dataframe tbody tr th:only-of-type {\n",
       "        vertical-align: middle;\n",
       "    }\n",
       "\n",
       "    .dataframe tbody tr th {\n",
       "        vertical-align: top;\n",
       "    }\n",
       "\n",
       "    .dataframe thead th {\n",
       "        text-align: right;\n",
       "    }\n",
       "</style>\n",
       "<table border=\"1\" class=\"dataframe\">\n",
       "  <thead>\n",
       "    <tr style=\"text-align: right;\">\n",
       "      <th></th>\n",
       "      <th>Total</th>\n",
       "      <th>Percent</th>\n",
       "    </tr>\n",
       "  </thead>\n",
       "  <tbody>\n",
       "    <tr>\n",
       "      <th>precipitation of coldest quarter</th>\n",
       "      <td>54</td>\n",
       "      <td>22.406639</td>\n",
       "    </tr>\n",
       "    <tr>\n",
       "      <th>precipitation of warmest quarter</th>\n",
       "      <td>54</td>\n",
       "      <td>22.406639</td>\n",
       "    </tr>\n",
       "    <tr>\n",
       "      <th>annual mean temperature</th>\n",
       "      <td>54</td>\n",
       "      <td>22.406639</td>\n",
       "    </tr>\n",
       "    <tr>\n",
       "      <th>mean diurnal range</th>\n",
       "      <td>54</td>\n",
       "      <td>22.406639</td>\n",
       "    </tr>\n",
       "    <tr>\n",
       "      <th>isothermality</th>\n",
       "      <td>54</td>\n",
       "      <td>22.406639</td>\n",
       "    </tr>\n",
       "    <tr>\n",
       "      <th>temperature seasonality</th>\n",
       "      <td>54</td>\n",
       "      <td>22.406639</td>\n",
       "    </tr>\n",
       "    <tr>\n",
       "      <th>max temperature of warmest month</th>\n",
       "      <td>54</td>\n",
       "      <td>22.406639</td>\n",
       "    </tr>\n",
       "    <tr>\n",
       "      <th>min temperature of coldest month</th>\n",
       "      <td>54</td>\n",
       "      <td>22.406639</td>\n",
       "    </tr>\n",
       "    <tr>\n",
       "      <th>temperature annual range</th>\n",
       "      <td>54</td>\n",
       "      <td>22.406639</td>\n",
       "    </tr>\n",
       "    <tr>\n",
       "      <th>mean temperature of wettest quarter</th>\n",
       "      <td>54</td>\n",
       "      <td>22.406639</td>\n",
       "    </tr>\n",
       "    <tr>\n",
       "      <th>mean temperature of driest quarter</th>\n",
       "      <td>54</td>\n",
       "      <td>22.406639</td>\n",
       "    </tr>\n",
       "    <tr>\n",
       "      <th>mean temperature of warmest quarter</th>\n",
       "      <td>54</td>\n",
       "      <td>22.406639</td>\n",
       "    </tr>\n",
       "    <tr>\n",
       "      <th>mean temperature of coldest quarter</th>\n",
       "      <td>54</td>\n",
       "      <td>22.406639</td>\n",
       "    </tr>\n",
       "    <tr>\n",
       "      <th>annual precipitation</th>\n",
       "      <td>54</td>\n",
       "      <td>22.406639</td>\n",
       "    </tr>\n",
       "    <tr>\n",
       "      <th>precipitation of wettest month</th>\n",
       "      <td>54</td>\n",
       "      <td>22.406639</td>\n",
       "    </tr>\n",
       "    <tr>\n",
       "      <th>precipitation of driest month</th>\n",
       "      <td>54</td>\n",
       "      <td>22.406639</td>\n",
       "    </tr>\n",
       "    <tr>\n",
       "      <th>precipitation seasonality</th>\n",
       "      <td>54</td>\n",
       "      <td>22.406639</td>\n",
       "    </tr>\n",
       "    <tr>\n",
       "      <th>precipitation of wettest quarter</th>\n",
       "      <td>54</td>\n",
       "      <td>22.406639</td>\n",
       "    </tr>\n",
       "    <tr>\n",
       "      <th>precipitation of driest quarter</th>\n",
       "      <td>54</td>\n",
       "      <td>22.406639</td>\n",
       "    </tr>\n",
       "    <tr>\n",
       "      <th>scientific name</th>\n",
       "      <td>0</td>\n",
       "      <td>0.000000</td>\n",
       "    </tr>\n",
       "    <tr>\n",
       "      <th>indexid</th>\n",
       "      <td>0</td>\n",
       "      <td>0.000000</td>\n",
       "    </tr>\n",
       "  </tbody>\n",
       "</table>\n",
       "</div>"
      ],
      "text/plain": [
       "                                     Total    Percent\n",
       "precipitation of coldest quarter        54  22.406639\n",
       "precipitation of warmest quarter        54  22.406639\n",
       "annual mean temperature                 54  22.406639\n",
       "mean diurnal range                      54  22.406639\n",
       "isothermality                           54  22.406639\n",
       "temperature seasonality                 54  22.406639\n",
       "max temperature of warmest month        54  22.406639\n",
       "min temperature of coldest month        54  22.406639\n",
       "temperature annual range                54  22.406639\n",
       "mean temperature of wettest quarter     54  22.406639\n",
       "mean temperature of driest quarter      54  22.406639\n",
       "mean temperature of warmest quarter     54  22.406639\n",
       "mean temperature of coldest quarter     54  22.406639\n",
       "annual precipitation                    54  22.406639\n",
       "precipitation of wettest month          54  22.406639\n",
       "precipitation of driest month           54  22.406639\n",
       "precipitation seasonality               54  22.406639\n",
       "precipitation of wettest quarter        54  22.406639\n",
       "precipitation of driest quarter         54  22.406639\n",
       "scientific name                          0   0.000000\n",
       "indexid                                  0   0.000000"
      ]
     },
     "execution_count": 4,
     "metadata": {},
     "output_type": "execute_result"
    }
   ],
   "source": [
    "missing_data(train)"
   ]
  },
  {
   "cell_type": "code",
   "execution_count": 5,
   "metadata": {},
   "outputs": [
    {
     "data": {
      "text/html": [
       "<div>\n",
       "<style scoped>\n",
       "    .dataframe tbody tr th:only-of-type {\n",
       "        vertical-align: middle;\n",
       "    }\n",
       "\n",
       "    .dataframe tbody tr th {\n",
       "        vertical-align: top;\n",
       "    }\n",
       "\n",
       "    .dataframe thead th {\n",
       "        text-align: right;\n",
       "    }\n",
       "</style>\n",
       "<table border=\"1\" class=\"dataframe\">\n",
       "  <thead>\n",
       "    <tr style=\"text-align: right;\">\n",
       "      <th></th>\n",
       "      <th>Total</th>\n",
       "      <th>Percent</th>\n",
       "    </tr>\n",
       "  </thead>\n",
       "  <tbody>\n",
       "    <tr>\n",
       "      <th>precipitation of coldest quarter</th>\n",
       "      <td>0</td>\n",
       "      <td>0.0</td>\n",
       "    </tr>\n",
       "    <tr>\n",
       "      <th>precipitation of warmest quarter</th>\n",
       "      <td>0</td>\n",
       "      <td>0.0</td>\n",
       "    </tr>\n",
       "    <tr>\n",
       "      <th>annual mean temperature</th>\n",
       "      <td>0</td>\n",
       "      <td>0.0</td>\n",
       "    </tr>\n",
       "    <tr>\n",
       "      <th>mean diurnal range</th>\n",
       "      <td>0</td>\n",
       "      <td>0.0</td>\n",
       "    </tr>\n",
       "    <tr>\n",
       "      <th>isothermality</th>\n",
       "      <td>0</td>\n",
       "      <td>0.0</td>\n",
       "    </tr>\n",
       "    <tr>\n",
       "      <th>temperature seasonality</th>\n",
       "      <td>0</td>\n",
       "      <td>0.0</td>\n",
       "    </tr>\n",
       "    <tr>\n",
       "      <th>max temperature of warmest month</th>\n",
       "      <td>0</td>\n",
       "      <td>0.0</td>\n",
       "    </tr>\n",
       "    <tr>\n",
       "      <th>min temperature of coldest month</th>\n",
       "      <td>0</td>\n",
       "      <td>0.0</td>\n",
       "    </tr>\n",
       "    <tr>\n",
       "      <th>temperature annual range</th>\n",
       "      <td>0</td>\n",
       "      <td>0.0</td>\n",
       "    </tr>\n",
       "    <tr>\n",
       "      <th>mean temperature of wettest quarter</th>\n",
       "      <td>0</td>\n",
       "      <td>0.0</td>\n",
       "    </tr>\n",
       "    <tr>\n",
       "      <th>mean temperature of driest quarter</th>\n",
       "      <td>0</td>\n",
       "      <td>0.0</td>\n",
       "    </tr>\n",
       "    <tr>\n",
       "      <th>mean temperature of warmest quarter</th>\n",
       "      <td>0</td>\n",
       "      <td>0.0</td>\n",
       "    </tr>\n",
       "    <tr>\n",
       "      <th>mean temperature of coldest quarter</th>\n",
       "      <td>0</td>\n",
       "      <td>0.0</td>\n",
       "    </tr>\n",
       "    <tr>\n",
       "      <th>annual precipitation</th>\n",
       "      <td>0</td>\n",
       "      <td>0.0</td>\n",
       "    </tr>\n",
       "    <tr>\n",
       "      <th>precipitation of wettest month</th>\n",
       "      <td>0</td>\n",
       "      <td>0.0</td>\n",
       "    </tr>\n",
       "    <tr>\n",
       "      <th>precipitation of driest month</th>\n",
       "      <td>0</td>\n",
       "      <td>0.0</td>\n",
       "    </tr>\n",
       "    <tr>\n",
       "      <th>precipitation seasonality</th>\n",
       "      <td>0</td>\n",
       "      <td>0.0</td>\n",
       "    </tr>\n",
       "    <tr>\n",
       "      <th>precipitation of wettest quarter</th>\n",
       "      <td>0</td>\n",
       "      <td>0.0</td>\n",
       "    </tr>\n",
       "    <tr>\n",
       "      <th>precipitation of driest quarter</th>\n",
       "      <td>0</td>\n",
       "      <td>0.0</td>\n",
       "    </tr>\n",
       "    <tr>\n",
       "      <th>indexid</th>\n",
       "      <td>0</td>\n",
       "      <td>0.0</td>\n",
       "    </tr>\n",
       "  </tbody>\n",
       "</table>\n",
       "</div>"
      ],
      "text/plain": [
       "                                     Total  Percent\n",
       "precipitation of coldest quarter         0      0.0\n",
       "precipitation of warmest quarter         0      0.0\n",
       "annual mean temperature                  0      0.0\n",
       "mean diurnal range                       0      0.0\n",
       "isothermality                            0      0.0\n",
       "temperature seasonality                  0      0.0\n",
       "max temperature of warmest month         0      0.0\n",
       "min temperature of coldest month         0      0.0\n",
       "temperature annual range                 0      0.0\n",
       "mean temperature of wettest quarter      0      0.0\n",
       "mean temperature of driest quarter       0      0.0\n",
       "mean temperature of warmest quarter      0      0.0\n",
       "mean temperature of coldest quarter      0      0.0\n",
       "annual precipitation                     0      0.0\n",
       "precipitation of wettest month           0      0.0\n",
       "precipitation of driest month            0      0.0\n",
       "precipitation seasonality                0      0.0\n",
       "precipitation of wettest quarter         0      0.0\n",
       "precipitation of driest quarter          0      0.0\n",
       "indexid                                  0      0.0"
      ]
     },
     "execution_count": 5,
     "metadata": {},
     "output_type": "execute_result"
    }
   ],
   "source": [
    "missing_data(test)"
   ]
  },
  {
   "cell_type": "code",
   "execution_count": 6,
   "metadata": {},
   "outputs": [
    {
     "data": {
      "text/plain": [
       "(187, 21)"
      ]
     },
     "execution_count": 6,
     "metadata": {},
     "output_type": "execute_result"
    }
   ],
   "source": [
    "train = train.dropna()\n",
    "train.shape"
   ]
  },
  {
   "cell_type": "code",
   "execution_count": 7,
   "metadata": {},
   "outputs": [
    {
     "name": "stdout",
     "output_type": "stream",
     "text": [
      "Memory usage of properties dataframe is : 0.0313873291015625  MB\n",
      "___MEMORY USAGE AFTER COMPLETION:___\n",
      "Memory usage is:  0.014088630676269531  MB\n",
      "This is  44.88636363636363 % of the initial size\n",
      "Memory usage of properties dataframe is : 0.0123291015625  MB\n",
      "___MEMORY USAGE AFTER COMPLETION:___\n",
      "Memory usage is:  0.0049285888671875  MB\n",
      "This is  39.975247524752476 % of the initial size\n"
     ]
    }
   ],
   "source": [
    "train = reduce_mem_usage(train, verbose=1)\n",
    "test = reduce_mem_usage(test, verbose=1)"
   ]
  },
  {
   "cell_type": "code",
   "execution_count": 8,
   "metadata": {},
   "outputs": [
    {
     "data": {
      "text/plain": [
       "[]"
      ]
     },
     "metadata": {},
     "output_type": "display_data"
    },
    {
     "data": {
      "text/plain": [
       "['annual mean temperature',\n",
       " 'mean diurnal range',\n",
       " 'isothermality',\n",
       " 'temperature seasonality',\n",
       " 'max temperature of warmest month',\n",
       " 'min temperature of coldest month',\n",
       " 'temperature annual range',\n",
       " 'mean temperature of wettest quarter',\n",
       " 'mean temperature of driest quarter',\n",
       " 'mean temperature of warmest quarter',\n",
       " 'mean temperature of coldest quarter',\n",
       " 'annual precipitation',\n",
       " 'precipitation of wettest month',\n",
       " 'precipitation of driest month',\n",
       " 'precipitation seasonality',\n",
       " 'precipitation of wettest quarter',\n",
       " 'precipitation of driest quarter',\n",
       " 'precipitation of warmest quarter',\n",
       " 'precipitation of coldest quarter']"
      ]
     },
     "metadata": {},
     "output_type": "display_data"
    }
   ],
   "source": [
    "index = 'indexid'\n",
    "label = 'scientific name'\n",
    "cats, nums = get_cats_nums(train)\n",
    "cats = [x for x in cats if x not in [index, label]]\n",
    "nums = [x for x in nums if x not in [index, label]]\n",
    "display(cats)\n",
    "display(nums)"
   ]
  },
  {
   "cell_type": "code",
   "execution_count": 9,
   "metadata": {},
   "outputs": [
    {
     "data": {
      "text/plain": [
       "Pithecophaga jeffeyri     69\n",
       "Cacatua haematuropygia    51\n",
       "Anas luzonica             30\n",
       "Egretta eulophotes        20\n",
       "Alcedo argentata          17\n",
       "Name: scientific name, dtype: int64"
      ]
     },
     "execution_count": 9,
     "metadata": {},
     "output_type": "execute_result"
    }
   ],
   "source": [
    "train[label].value_counts()"
   ]
  },
  {
   "cell_type": "markdown",
   "metadata": {},
   "source": [
    "# Preprocessing"
   ]
  },
  {
   "cell_type": "code",
   "execution_count": 10,
   "metadata": {},
   "outputs": [],
   "source": [
    "from sklearn.preprocessing import LabelEncoder"
   ]
  },
  {
   "cell_type": "code",
   "execution_count": 11,
   "metadata": {},
   "outputs": [],
   "source": [
    "enc = LabelEncoder()\n",
    "train[label] = enc.fit_transform(train[label])"
   ]
  },
  {
   "cell_type": "markdown",
   "metadata": {},
   "source": [
    "## Feature label encoding"
   ]
  },
  {
   "cell_type": "code",
   "execution_count": 12,
   "metadata": {},
   "outputs": [],
   "source": [
    "# from sklearn.preprocessing import LabelEncoder"
   ]
  },
  {
   "cell_type": "code",
   "execution_count": 13,
   "metadata": {},
   "outputs": [],
   "source": [
    "# enc = LabelEncoder()\n",
    "# new_cols_0 = []\n",
    "# for col in cats:\n",
    "#     new_col = str(col) + '_0'\n",
    "#     train[new_col] = enc.fit_transform(train[col])\n",
    "#     test[new_col] = enc.transform(test[col])\n",
    "#     new_cols_0.append(new_col)"
   ]
  },
  {
   "cell_type": "markdown",
   "metadata": {},
   "source": [
    "## Frequency encoding"
   ]
  },
  {
   "cell_type": "code",
   "execution_count": 14,
   "metadata": {},
   "outputs": [],
   "source": [
    "# new_cols_1 = []\n",
    "# for col in cats:\n",
    "#     new_col = str(col) + '_1'\n",
    "#     encoding = train.groupby(col).size()/len(train)    \n",
    "#     train[new_col] = train[col].map(encoding)\n",
    "#     test[new_col] = test[col].map(encoding)\n",
    "#     new_cols_1.append(new_col)"
   ]
  },
  {
   "cell_type": "code",
   "execution_count": 15,
   "metadata": {},
   "outputs": [],
   "source": [
    "# train.drop(cats, axis=1, inplace=True)\n",
    "# test.drop(cats, axis=1, inplace=True)\n",
    "# cats = []\n",
    "# cats.extend(new_cols_0)\n",
    "# cats.extend(new_cols_1)"
   ]
  },
  {
   "cell_type": "markdown",
   "metadata": {},
   "source": [
    "# Model"
   ]
  },
  {
   "cell_type": "code",
   "execution_count": 16,
   "metadata": {},
   "outputs": [],
   "source": [
    "from sklearn.model_selection import KFold, StratifiedKFold\n",
    "from utils.models import CatBoostCV"
   ]
  },
  {
   "cell_type": "code",
   "execution_count": 17,
   "metadata": {},
   "outputs": [
    {
     "name": "stdout",
     "output_type": "stream",
     "text": [
      "19\n",
      "['annual mean temperature', 'mean diurnal range', 'isothermality', 'temperature seasonality', 'max temperature of warmest month', 'min temperature of coldest month', 'temperature annual range', 'mean temperature of wettest quarter', 'mean temperature of driest quarter', 'mean temperature of warmest quarter', 'mean temperature of coldest quarter', 'annual precipitation', 'precipitation of wettest month', 'precipitation of driest month', 'precipitation seasonality', 'precipitation of wettest quarter', 'precipitation of driest quarter', 'precipitation of warmest quarter', 'precipitation of coldest quarter']\n"
     ]
    }
   ],
   "source": [
    "feats = [f for f in cats if f not in [index, label]] + [f for f in nums if f not in [index, label]]\n",
    "print(len(feats))\n",
    "print(feats)"
   ]
  },
  {
   "cell_type": "code",
   "execution_count": 18,
   "metadata": {},
   "outputs": [
    {
     "name": "stdout",
     "output_type": "stream",
     "text": [
      "0:\tlearn: 0.6151437\ttest: 0.3945708\tbest: 0.3945708 (0)\ttotal: 65.9ms\tremaining: 1m 5s\n",
      "Stopped by overfitting detector  (50 iterations wait)\n",
      "\n",
      "bestTest = 0.5499222999\n",
      "bestIteration = 5\n",
      "\n",
      "Shrink model to first 6 iterations.\n",
      "0:\tlearn: 0.4883640\ttest: 0.3959900\tbest: 0.3959900 (0)\ttotal: 8.41ms\tremaining: 8.4s\n",
      "Stopped by overfitting detector  (50 iterations wait)\n",
      "\n",
      "bestTest = 0.5292804203\n",
      "bestIteration = 2\n",
      "\n",
      "Shrink model to first 3 iterations.\n",
      "0:\tlearn: 0.5747116\ttest: 0.4606607\tbest: 0.4606607 (0)\ttotal: 4.49ms\tremaining: 4.48s\n",
      "Stopped by overfitting detector  (50 iterations wait)\n",
      "\n",
      "bestTest = 0.6279279279\n",
      "bestIteration = 13\n",
      "\n",
      "Shrink model to first 14 iterations.\n",
      "0:\tlearn: 0.5791124\ttest: 0.4550183\tbest: 0.4550183 (0)\ttotal: 2.98ms\tremaining: 2.97s\n",
      "Stopped by overfitting detector  (50 iterations wait)\n",
      "\n",
      "bestTest = 0.6337428337\n",
      "bestIteration = 13\n",
      "\n",
      "Shrink model to first 14 iterations.\n",
      "0:\tlearn: 0.5850315\ttest: 0.4179894\tbest: 0.4179894 (0)\ttotal: 2.84ms\tremaining: 2.84s\n",
      "Stopped by overfitting detector  (50 iterations wait)\n",
      "\n",
      "bestTest = 0.5799504348\n",
      "bestIteration = 4\n",
      "\n",
      "Shrink model to first 5 iterations.\n"
     ]
    }
   ],
   "source": [
    "params = {\n",
    "    'eval_metric':'TotalF1',\n",
    "   # 'task_type': 'GPU', if you want to train on GPU\n",
    "    'iterations': 1000,\n",
    "    'learning_rate': 0.01,\n",
    "    'early_stopping_rounds':50,\n",
    "    'cat_features': cats,\n",
    "   # 'one_hot_max_size': 5, helpful in high cardinality features\n",
    "    'bootstrap_type': 'Bayesian', #Bernoulli is a good alternative\n",
    "    'depth': 6, #depth is useful if range 4~12\n",
    "    'l2_leaf_reg': 0.3,  #reg_lambda is the alias of l2_leaf_reg\n",
    "   # 'random_strength': 1,  #works like gamma in XGBOOST\n",
    " #   'subsample': 0.8 #works like feature_fraction in lightgbm if bootstrap_type = Bernoulli\n",
    "}\n",
    "\n",
    "skf = StratifiedKFold(n_splits=5, shuffle=True, random_state=13)\n",
    "skf_splitted = skf.split(train[feats], train[label])\n",
    "\n",
    "cb_model = CatBoostCV(\n",
    "    cv=skf_splitted,\n",
    "    cats=cats,\n",
    "    nums=nums,\n",
    "    random_state=21,\n",
    "    obj='multiclass',\n",
    "    **params\n",
    ")\n",
    "\n",
    "cb_model = cb_model.fit(\n",
    "    train, train[label],\n",
    "    verbose_eval=1000,\n",
    "    use_best_model=True\n",
    ")"
   ]
  },
  {
   "cell_type": "code",
   "execution_count": 19,
   "metadata": {},
   "outputs": [
    {
     "data": {
      "text/plain": [
       "0.5841647833461292"
      ]
     },
     "execution_count": 19,
     "metadata": {},
     "output_type": "execute_result"
    }
   ],
   "source": [
    "cv_score = np.mean(cb_model.model_scores_)\n",
    "cv_score"
   ]
  },
  {
   "cell_type": "code",
   "execution_count": 20,
   "metadata": {},
   "outputs": [
    {
     "data": {
      "text/plain": [
       "[0.5499222999222999,\n",
       " 0.5292804203020921,\n",
       " 0.627927927927928,\n",
       " 0.6337428337428338,\n",
       " 0.5799504348354922]"
      ]
     },
     "execution_count": 20,
     "metadata": {},
     "output_type": "execute_result"
    }
   ],
   "source": [
    "cb_model.model_scores_"
   ]
  },
  {
   "cell_type": "code",
   "execution_count": 21,
   "metadata": {},
   "outputs": [
    {
     "data": {
      "text/plain": [
       "0.04141448446129832"
      ]
     },
     "execution_count": 21,
     "metadata": {},
     "output_type": "execute_result"
    }
   ],
   "source": [
    "np.std(cb_model.model_scores_)"
   ]
  },
  {
   "cell_type": "code",
   "execution_count": 22,
   "metadata": {},
   "outputs": [],
   "source": [
    "# cb_model.feature_importances_"
   ]
  },
  {
   "cell_type": "markdown",
   "metadata": {},
   "source": [
    "# Test set"
   ]
  },
  {
   "cell_type": "code",
   "execution_count": 23,
   "metadata": {},
   "outputs": [],
   "source": [
    "test[label] = cb_model.predict(test[feats])"
   ]
  },
  {
   "cell_type": "code",
   "execution_count": 24,
   "metadata": {},
   "outputs": [
    {
     "data": {
      "text/plain": [
       "4    46\n",
       "2    23\n",
       "3     4\n",
       "1     4\n",
       "0     3\n",
       "Name: scientific name, dtype: int64"
      ]
     },
     "execution_count": 24,
     "metadata": {},
     "output_type": "execute_result"
    }
   ],
   "source": [
    "test[label].value_counts()"
   ]
  },
  {
   "cell_type": "code",
   "execution_count": 25,
   "metadata": {},
   "outputs": [],
   "source": [
    "test[label] = enc.inverse_transform(test[label])"
   ]
  },
  {
   "cell_type": "code",
   "execution_count": 26,
   "metadata": {},
   "outputs": [],
   "source": [
    "test.rename(columns={\n",
    "    'indexid': 'indexId',\n",
    "    label: 'Predicted'\n",
    "}, inplace=True)"
   ]
  },
  {
   "cell_type": "code",
   "execution_count": 26,
   "metadata": {},
   "outputs": [],
   "source": [
    "sub_path = \"submission/haribon_submission/\"\n",
    "\n",
    "test[['indexId', 'Predicted']].to_csv(sub_path+\\\n",
    "         \"cb_haribon_{0:.3f}_meanvoting.csv\".format(cv_score), index=False)"
   ]
  }
 ],
 "metadata": {
  "kernelspec": {
   "display_name": "Python 3",
   "language": "python",
   "name": "python3"
  },
  "language_info": {
   "codemirror_mode": {
    "name": "ipython",
    "version": 3
   },
   "file_extension": ".py",
   "mimetype": "text/x-python",
   "name": "python",
   "nbconvert_exporter": "python",
   "pygments_lexer": "ipython3",
   "version": "3.7.3"
  }
 },
 "nbformat": 4,
 "nbformat_minor": 2
}
