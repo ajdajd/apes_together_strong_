{
 "cells": [
  {
   "cell_type": "code",
   "execution_count": 1,
   "metadata": {},
   "outputs": [],
   "source": [
    "import os\n",
    "from joblib import load\n",
    "from catboost import CatBoostClassifier"
   ]
  },
  {
   "cell_type": "markdown",
   "metadata": {},
   "source": [
    "# Import models"
   ]
  },
  {
   "cell_type": "code",
   "execution_count": 2,
   "metadata": {},
   "outputs": [],
   "source": [
    "rf_models = []\n",
    "path = 'models/rf_0.500/'\n",
    "for filename in os.listdir(path):\n",
    "    model = load(path+filename)\n",
    "    rf_models.append(model)\n",
    "    \n",
    "cb_models = []\n",
    "path = 'models/cb_0.584/'\n",
    "for filename in os.listdir(path):\n",
    "    model = CatBoostClassifier().load_model(path+filename)\n",
    "    cb_models.append(model)"
   ]
  },
  {
   "cell_type": "code",
   "execution_count": 3,
   "metadata": {},
   "outputs": [],
   "source": [
    "all_models = rf_models+cb_models"
   ]
  },
  {
   "cell_type": "markdown",
   "metadata": {},
   "source": [
    "# Test set"
   ]
  },
  {
   "cell_type": "code",
   "execution_count": 4,
   "metadata": {},
   "outputs": [],
   "source": [
    "import pandas as pd\n",
    "import numpy as np\n",
    "from utils.eda import reduce_mem_usage, get_cats_nums"
   ]
  },
  {
   "cell_type": "code",
   "execution_count": 5,
   "metadata": {},
   "outputs": [
    {
     "name": "stdout",
     "output_type": "stream",
     "text": [
      "Memory usage of properties dataframe is : 0.0123291015625  MB\n",
      "___MEMORY USAGE AFTER COMPLETION:___\n",
      "Memory usage is:  0.0049285888671875  MB\n",
      "This is  39.975247524752476 % of the initial size\n"
     ]
    }
   ],
   "source": [
    "path = \"../data/mlhackfest-haribon1//\"\n",
    "test = pd.read_csv(path+\"test.csv\")\n",
    "test.columns = [f.lower() for f in test.columns]\n",
    "index = 'indexid'\n",
    "label = 'scientific name'\n",
    "cats, nums = get_cats_nums(test)\n",
    "cats = [x for x in cats if x not in [index, label]]\n",
    "nums = [x for x in nums if x not in [index, label]]\n",
    "feats = [f for f in cats if f not in [index, label]] + [f for f in nums if f not in [index, label]]\n",
    "test = reduce_mem_usage(test, verbose=1)"
   ]
  },
  {
   "cell_type": "code",
   "execution_count": 6,
   "metadata": {},
   "outputs": [
    {
     "name": "stdout",
     "output_type": "stream",
     "text": [
      "RandomForestClassifier(bootstrap=True, class_weight=None, criterion='gini',\n",
      "                       max_depth=6, max_features='auto', max_leaf_nodes=None,\n",
      "                       min_impurity_decrease=0.0, min_impurity_split=None,\n",
      "                       min_samples_leaf=1, min_samples_split=2,\n",
      "                       min_weight_fraction_leaf=0.0, n_estimators=500,\n",
      "                       n_jobs=-1, oob_score=False, random_state=13, verbose=0,\n",
      "                       warm_start=False)\n",
      "RandomForestClassifier(bootstrap=True, class_weight=None, criterion='gini',\n",
      "                       max_depth=6, max_features='auto', max_leaf_nodes=None,\n",
      "                       min_impurity_decrease=0.0, min_impurity_split=None,\n",
      "                       min_samples_leaf=1, min_samples_split=2,\n",
      "                       min_weight_fraction_leaf=0.0, n_estimators=500,\n",
      "                       n_jobs=-1, oob_score=False, random_state=13, verbose=0,\n",
      "                       warm_start=False)\n",
      "RandomForestClassifier(bootstrap=True, class_weight=None, criterion='gini',\n",
      "                       max_depth=6, max_features='auto', max_leaf_nodes=None,\n",
      "                       min_impurity_decrease=0.0, min_impurity_split=None,\n",
      "                       min_samples_leaf=1, min_samples_split=2,\n",
      "                       min_weight_fraction_leaf=0.0, n_estimators=500,\n",
      "                       n_jobs=-1, oob_score=False, random_state=13, verbose=0,\n",
      "                       warm_start=False)\n",
      "RandomForestClassifier(bootstrap=True, class_weight=None, criterion='gini',\n",
      "                       max_depth=6, max_features='auto', max_leaf_nodes=None,\n",
      "                       min_impurity_decrease=0.0, min_impurity_split=None,\n",
      "                       min_samples_leaf=1, min_samples_split=2,\n",
      "                       min_weight_fraction_leaf=0.0, n_estimators=500,\n",
      "                       n_jobs=-1, oob_score=False, random_state=13, verbose=0,\n",
      "                       warm_start=False)\n",
      "RandomForestClassifier(bootstrap=True, class_weight=None, criterion='gini',\n",
      "                       max_depth=6, max_features='auto', max_leaf_nodes=None,\n",
      "                       min_impurity_decrease=0.0, min_impurity_split=None,\n",
      "                       min_samples_leaf=1, min_samples_split=2,\n",
      "                       min_weight_fraction_leaf=0.0, n_estimators=500,\n",
      "                       n_jobs=-1, oob_score=False, random_state=13, verbose=0,\n",
      "                       warm_start=False)\n",
      "<catboost.core.CatBoostClassifier object at 0x7f5017fa1d68>\n",
      "<catboost.core.CatBoostClassifier object at 0x7f5017fa1e80>\n",
      "<catboost.core.CatBoostClassifier object at 0x7f5017fa1e48>\n",
      "<catboost.core.CatBoostClassifier object at 0x7f5015a9db00>\n",
      "<catboost.core.CatBoostClassifier object at 0x7f5015a9db70>\n"
     ]
    }
   ],
   "source": [
    "all_preds = []\n",
    "for model in all_models:\n",
    "    model_preds = model.predict_proba(test[feats])\n",
    "    all_preds.append(model_preds)\n",
    "    print(model)\n",
    "\n",
    "all_preds = np.array(all_preds).mean(axis=0).argmax(axis=1)\n",
    "test['Predicted'] = all_preds"
   ]
  },
  {
   "cell_type": "code",
   "execution_count": 7,
   "metadata": {},
   "outputs": [],
   "source": [
    "mapping = {0: 'Alcedo argentata',\n",
    "           1: 'Anas luzonica',\n",
    "           2: 'Cacatua haematuropygia',\n",
    "           3: 'Egretta eulophotes',\n",
    "           4: 'Pithecophaga jeffeyri'}\n",
    "\n",
    "test['Predicted'] = test['Predicted'].map(mapping)"
   ]
  },
  {
   "cell_type": "code",
   "execution_count": 8,
   "metadata": {},
   "outputs": [],
   "source": [
    "test.rename(columns={\n",
    "    'indexid': 'indexId'\n",
    "}, inplace=True)"
   ]
  },
  {
   "cell_type": "code",
   "execution_count": 9,
   "metadata": {},
   "outputs": [],
   "source": [
    "sub_path = \"submission/haribon_submission/\"\n",
    "filename = \"together1\"\n",
    "test[['indexId', 'Predicted']].to_csv(sub_path+filename+\".csv\", index=False)"
   ]
  },
  {
   "cell_type": "code",
   "execution_count": 10,
   "metadata": {},
   "outputs": [
    {
     "data": {
      "text/plain": [
       "Pithecophaga jeffeyri     34\n",
       "Cacatua haematuropygia    30\n",
       "Egretta eulophotes         7\n",
       "Anas luzonica              5\n",
       "Alcedo argentata           4\n",
       "Name: Predicted, dtype: int64"
      ]
     },
     "execution_count": 10,
     "metadata": {},
     "output_type": "execute_result"
    }
   ],
   "source": [
    "test['Predicted'].value_counts()"
   ]
  }
 ],
 "metadata": {
  "kernelspec": {
   "display_name": "Python 3",
   "language": "python",
   "name": "python3"
  },
  "language_info": {
   "codemirror_mode": {
    "name": "ipython",
    "version": 3
   },
   "file_extension": ".py",
   "mimetype": "text/x-python",
   "name": "python",
   "nbconvert_exporter": "python",
   "pygments_lexer": "ipython3",
   "version": "3.7.3"
  }
 },
 "nbformat": 4,
 "nbformat_minor": 2
}
